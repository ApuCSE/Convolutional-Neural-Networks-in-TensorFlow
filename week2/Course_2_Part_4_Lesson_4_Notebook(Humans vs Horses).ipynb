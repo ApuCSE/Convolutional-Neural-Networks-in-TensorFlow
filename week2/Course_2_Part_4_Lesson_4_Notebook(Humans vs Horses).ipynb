{
  "nbformat": 4,
  "nbformat_minor": 0,
  "metadata": {
    "accelerator": "GPU",
    "colab": {
      "name": "Course 2 - Part 4 - Lesson 4 - Notebook.ipynb",
      "provenance": [],
      "collapsed_sections": [],
      "toc_visible": true
    },
    "kernelspec": {
      "display_name": "Python 3",
      "name": "python3"
    }
  },
  "cells": [
    {
      "cell_type": "markdown",
      "metadata": {
        "colab_type": "text",
        "id": "rX8mhOLljYeM"
      },
      "source": [
        "##### Copyright 2019 The TensorFlow Authors."
      ]
    },
    {
      "cell_type": "code",
      "metadata": {
        "cellView": "form",
        "colab_type": "code",
        "id": "BZSlp3DAjdYf",
        "colab": {}
      },
      "source": [
        "#@title Licensed under the Apache License, Version 2.0 (the \"License\");\n",
        "# you may not use this file except in compliance with the License.\n",
        "# You may obtain a copy of the License at\n",
        "#\n",
        "# https://www.apache.org/licenses/LICENSE-2.0\n",
        "#\n",
        "# Unless required by applicable law or agreed to in writing, software\n",
        "# distributed under the License is distributed on an \"AS IS\" BASIS,\n",
        "# WITHOUT WARRANTIES OR CONDITIONS OF ANY KIND, either express or implied.\n",
        "# See the License for the specific language governing permissions and\n",
        "# limitations under the License."
      ],
      "execution_count": 0,
      "outputs": []
    },
    {
      "cell_type": "code",
      "metadata": {
        "colab_type": "code",
        "id": "RXZT2UsyIVe_",
        "colab": {
          "base_uri": "https://localhost:8080/",
          "height": 411
        },
        "outputId": "48f95d73-14d1-49b0-feaa-38b87ca82570"
      },
      "source": [
        "!wget --no-check-certificate \\\n",
        "    https://storage.googleapis.com/laurencemoroney-blog.appspot.com/horse-or-human.zip \\\n",
        "    -O /tmp/horse-or-human.zip\n",
        "\n",
        "!wget --no-check-certificate \\\n",
        "    https://storage.googleapis.com/laurencemoroney-blog.appspot.com/validation-horse-or-human.zip \\\n",
        "    -O /tmp/validation-horse-or-human.zip\n",
        "  \n",
        "import os\n",
        "import zipfile\n",
        "\n",
        "local_zip = '/tmp/horse-or-human.zip'\n",
        "zip_ref = zipfile.ZipFile(local_zip, 'r')\n",
        "zip_ref.extractall('/tmp/horse-or-human')\n",
        "local_zip = '/tmp/validation-horse-or-human.zip'\n",
        "zip_ref = zipfile.ZipFile(local_zip, 'r')\n",
        "zip_ref.extractall('/tmp/validation-horse-or-human')\n",
        "zip_ref.close()\n",
        "# Directory with our training horse pictures\n",
        "train_horse_dir = os.path.join('/tmp/horse-or-human/horses')\n",
        "\n",
        "# Directory with our training human pictures\n",
        "train_human_dir = os.path.join('/tmp/horse-or-human/humans')\n",
        "\n",
        "# Directory with our training horse pictures\n",
        "validation_horse_dir = os.path.join('/tmp/validation-horse-or-human/horses')\n",
        "\n",
        "# Directory with our training human pictures\n",
        "validation_human_dir = os.path.join('/tmp/validation-horse-or-human/humans')"
      ],
      "execution_count": 1,
      "outputs": [
        {
          "output_type": "stream",
          "text": [
            "--2020-04-28 20:39:15--  https://storage.googleapis.com/laurencemoroney-blog.appspot.com/horse-or-human.zip\n",
            "Resolving storage.googleapis.com (storage.googleapis.com)... 74.125.28.128, 2607:f8b0:400e:c09::80\n",
            "Connecting to storage.googleapis.com (storage.googleapis.com)|74.125.28.128|:443... connected.\n",
            "HTTP request sent, awaiting response... 200 OK\n",
            "Length: 149574867 (143M) [application/zip]\n",
            "Saving to: ‘/tmp/horse-or-human.zip’\n",
            "\n",
            "/tmp/horse-or-human 100%[===================>] 142.65M  83.6MB/s    in 1.7s    \n",
            "\n",
            "2020-04-28 20:39:17 (83.6 MB/s) - ‘/tmp/horse-or-human.zip’ saved [149574867/149574867]\n",
            "\n",
            "--2020-04-28 20:39:19--  https://storage.googleapis.com/laurencemoroney-blog.appspot.com/validation-horse-or-human.zip\n",
            "Resolving storage.googleapis.com (storage.googleapis.com)... 74.125.195.128, 2607:f8b0:400e:c09::80\n",
            "Connecting to storage.googleapis.com (storage.googleapis.com)|74.125.195.128|:443... connected.\n",
            "HTTP request sent, awaiting response... 200 OK\n",
            "Length: 11480187 (11M) [application/zip]\n",
            "Saving to: ‘/tmp/validation-horse-or-human.zip’\n",
            "\n",
            "/tmp/validation-hor 100%[===================>]  10.95M  57.2MB/s    in 0.2s    \n",
            "\n",
            "2020-04-28 20:39:19 (57.2 MB/s) - ‘/tmp/validation-horse-or-human.zip’ saved [11480187/11480187]\n",
            "\n"
          ],
          "name": "stdout"
        }
      ]
    },
    {
      "cell_type": "markdown",
      "metadata": {
        "colab_type": "text",
        "id": "5oqBkNBJmtUv"
      },
      "source": [
        "## Building a Small Model from Scratch\n",
        "\n",
        "But before we continue, let's start defining the model:\n",
        "\n",
        "Step 1 will be to import tensorflow."
      ]
    },
    {
      "cell_type": "code",
      "metadata": {
        "colab_type": "code",
        "id": "qvfZg3LQbD-5",
        "colab": {}
      },
      "source": [
        "import tensorflow as tf"
      ],
      "execution_count": 0,
      "outputs": []
    },
    {
      "cell_type": "markdown",
      "metadata": {
        "colab_type": "text",
        "id": "BnhYCP4tdqjC"
      },
      "source": [
        "We then add convolutional layers as in the previous example, and flatten the final result to feed into the densely connected layers."
      ]
    },
    {
      "cell_type": "markdown",
      "metadata": {
        "colab_type": "text",
        "id": "gokG5HKpdtzm"
      },
      "source": [
        "Finally we add the densely connected layers. \n",
        "\n",
        "Note that because we are facing a two-class classification problem, i.e. a *binary classification problem*, we will end our network with a [*sigmoid* activation](https://wikipedia.org/wiki/Sigmoid_function), so that the output of our network will be a single scalar between 0 and 1, encoding the probability that the current image is class 1 (as opposed to class 0)."
      ]
    },
    {
      "cell_type": "code",
      "metadata": {
        "colab_type": "code",
        "id": "PixZ2s5QbYQ3",
        "colab": {}
      },
      "source": [
        "model = tf.keras.models.Sequential([\n",
        "    # Note the input shape is the desired size of the image 300x300 with 3 bytes color\n",
        "    # This is the first convolution\n",
        "    tf.keras.layers.Conv2D(16, (3,3), activation='relu', input_shape=(300, 300, 3)),\n",
        "    tf.keras.layers.MaxPooling2D(2, 2),\n",
        "    # The second convolution\n",
        "    tf.keras.layers.Conv2D(32, (3,3), activation='relu'),\n",
        "    tf.keras.layers.MaxPooling2D(2,2),\n",
        "    # The third convolution\n",
        "    tf.keras.layers.Conv2D(64, (3,3), activation='relu'),\n",
        "    tf.keras.layers.MaxPooling2D(2,2),\n",
        "    # The fourth convolution\n",
        "    tf.keras.layers.Conv2D(64, (3,3), activation='relu'),\n",
        "    tf.keras.layers.MaxPooling2D(2,2),\n",
        "    # The fifth convolution\n",
        "    tf.keras.layers.Conv2D(64, (3,3), activation='relu'),\n",
        "    tf.keras.layers.MaxPooling2D(2,2),\n",
        "    # Flatten the results to feed into a DNN\n",
        "    tf.keras.layers.Flatten(),\n",
        "    # 512 neuron hidden layer\n",
        "    tf.keras.layers.Dense(512, activation='relu'),\n",
        "    # Only 1 output neuron. It will contain a value from 0-1 where 0 for 1 class ('horses') and 1 for the other ('humans')\n",
        "    tf.keras.layers.Dense(1, activation='sigmoid')\n",
        "])"
      ],
      "execution_count": 0,
      "outputs": []
    },
    {
      "cell_type": "code",
      "metadata": {
        "colab_type": "code",
        "id": "8DHWhFP_uhq3",
        "colab": {}
      },
      "source": [
        "from tensorflow.keras.optimizers import RMSprop\n",
        "\n",
        "model.compile(loss='binary_crossentropy',\n",
        "              optimizer=RMSprop(lr=1e-4),\n",
        "              metrics=['accuracy'])"
      ],
      "execution_count": 0,
      "outputs": []
    },
    {
      "cell_type": "code",
      "metadata": {
        "colab_type": "code",
        "id": "ClebU9NJg99G",
        "colab": {
          "base_uri": "https://localhost:8080/",
          "height": 51
        },
        "outputId": "68c5af35-67fe-4ae6-e2eb-ecf81f5f5714"
      },
      "source": [
        "from tensorflow.keras.preprocessing.image import ImageDataGenerator\n",
        "\n",
        "# All images will be rescaled by 1./255\n",
        "train_datagen = ImageDataGenerator(\n",
        "      rescale=1./255,\n",
        "      rotation_range=40,\n",
        "      width_shift_range=0.2,\n",
        "      height_shift_range=0.2,\n",
        "      shear_range=0.2,\n",
        "      zoom_range=0.2,\n",
        "      horizontal_flip=True,\n",
        "      fill_mode='nearest')\n",
        "\n",
        "validation_datagen = ImageDataGenerator(rescale=1/255)\n",
        "\n",
        "# Flow training images in batches of 128 using train_datagen generator\n",
        "train_generator = train_datagen.flow_from_directory(\n",
        "        '/tmp/horse-or-human/',  # This is the source directory for training images\n",
        "        target_size=(300, 300),  # All images will be resized to 150x150\n",
        "        batch_size=128,\n",
        "        # Since we use binary_crossentropy loss, we need binary labels\n",
        "        class_mode='binary')\n",
        "\n",
        "# Flow training images in batches of 128 using train_datagen generator\n",
        "validation_generator = validation_datagen.flow_from_directory(\n",
        "        '/tmp/validation-horse-or-human/',  # This is the source directory for training images\n",
        "        target_size=(300, 300),  # All images will be resized to 150x150\n",
        "        batch_size=32,\n",
        "        # Since we use binary_crossentropy loss, we need binary labels\n",
        "        class_mode='binary')"
      ],
      "execution_count": 7,
      "outputs": [
        {
          "output_type": "stream",
          "text": [
            "Found 1027 images belonging to 2 classes.\n",
            "Found 256 images belonging to 2 classes.\n"
          ],
          "name": "stdout"
        }
      ]
    },
    {
      "cell_type": "code",
      "metadata": {
        "colab_type": "code",
        "id": "Fb1_lgobv81m",
        "colab": {
          "base_uri": "https://localhost:8080/",
          "height": 1000
        },
        "outputId": "e3b15c71-5736-459f-e57a-7a3f4ea49c11"
      },
      "source": [
        "history = model.fit(\n",
        "      train_generator,\n",
        "      steps_per_epoch=8,  \n",
        "      epochs=100,\n",
        "      verbose=1,\n",
        "      validation_data = validation_generator,\n",
        "      validation_steps=8)"
      ],
      "execution_count": 8,
      "outputs": [
        {
          "output_type": "stream",
          "text": [
            "Epoch 1/100\n",
            "8/8 [==============================] - 19s 2s/step - loss: 0.6816 - accuracy: 0.5596 - val_loss: 0.6623 - val_accuracy: 0.6172\n",
            "Epoch 2/100\n",
            "8/8 [==============================] - 22s 3s/step - loss: 0.6631 - accuracy: 0.6129 - val_loss: 0.6450 - val_accuracy: 0.6172\n",
            "Epoch 3/100\n",
            "8/8 [==============================] - 18s 2s/step - loss: 0.6220 - accuracy: 0.6607 - val_loss: 0.6214 - val_accuracy: 0.6367\n",
            "Epoch 4/100\n",
            "8/8 [==============================] - 19s 2s/step - loss: 0.6044 - accuracy: 0.7097 - val_loss: 0.6556 - val_accuracy: 0.5234\n",
            "Epoch 5/100\n",
            "8/8 [==============================] - 19s 2s/step - loss: 0.5914 - accuracy: 0.6685 - val_loss: 0.7722 - val_accuracy: 0.4766\n",
            "Epoch 6/100\n",
            "8/8 [==============================] - 18s 2s/step - loss: 0.5815 - accuracy: 0.6941 - val_loss: 0.7315 - val_accuracy: 0.5039\n",
            "Epoch 7/100\n",
            "8/8 [==============================] - 18s 2s/step - loss: 0.5076 - accuracy: 0.7575 - val_loss: 0.7571 - val_accuracy: 0.5352\n",
            "Epoch 8/100\n",
            "8/8 [==============================] - 18s 2s/step - loss: 0.5098 - accuracy: 0.7519 - val_loss: 0.8849 - val_accuracy: 0.5117\n",
            "Epoch 9/100\n",
            "8/8 [==============================] - 18s 2s/step - loss: 0.4641 - accuracy: 0.7887 - val_loss: 0.5858 - val_accuracy: 0.6367\n",
            "Epoch 10/100\n",
            "8/8 [==============================] - 20s 3s/step - loss: 0.5094 - accuracy: 0.7607 - val_loss: 0.6616 - val_accuracy: 0.6211\n",
            "Epoch 11/100\n",
            "8/8 [==============================] - 21s 3s/step - loss: 0.4455 - accuracy: 0.7820 - val_loss: 0.8997 - val_accuracy: 0.5469\n",
            "Epoch 12/100\n",
            "8/8 [==============================] - 18s 2s/step - loss: 0.4373 - accuracy: 0.8098 - val_loss: 0.9473 - val_accuracy: 0.5703\n",
            "Epoch 13/100\n",
            "8/8 [==============================] - 18s 2s/step - loss: 0.4962 - accuracy: 0.7419 - val_loss: 0.6994 - val_accuracy: 0.6484\n",
            "Epoch 14/100\n",
            "8/8 [==============================] - 18s 2s/step - loss: 0.5010 - accuracy: 0.7753 - val_loss: 0.9562 - val_accuracy: 0.5781\n",
            "Epoch 15/100\n",
            "8/8 [==============================] - 18s 2s/step - loss: 0.4648 - accuracy: 0.8087 - val_loss: 0.9692 - val_accuracy: 0.5742\n",
            "Epoch 16/100\n",
            "8/8 [==============================] - 18s 2s/step - loss: 0.3883 - accuracy: 0.8220 - val_loss: 1.1359 - val_accuracy: 0.5859\n",
            "Epoch 17/100\n",
            "8/8 [==============================] - 18s 2s/step - loss: 0.5141 - accuracy: 0.7697 - val_loss: 0.7002 - val_accuracy: 0.6445\n",
            "Epoch 18/100\n",
            "8/8 [==============================] - 18s 2s/step - loss: 0.4049 - accuracy: 0.8176 - val_loss: 0.5772 - val_accuracy: 0.7500\n",
            "Epoch 19/100\n",
            "8/8 [==============================] - 20s 3s/step - loss: 0.3989 - accuracy: 0.8164 - val_loss: 1.5717 - val_accuracy: 0.5469\n",
            "Epoch 20/100\n",
            "8/8 [==============================] - 21s 3s/step - loss: 0.4104 - accuracy: 0.8276 - val_loss: 2.1464 - val_accuracy: 0.4922\n",
            "Epoch 21/100\n",
            "8/8 [==============================] - 18s 2s/step - loss: 0.3551 - accuracy: 0.8354 - val_loss: 1.0482 - val_accuracy: 0.6406\n",
            "Epoch 22/100\n",
            "8/8 [==============================] - 18s 2s/step - loss: 0.3976 - accuracy: 0.8465 - val_loss: 1.5198 - val_accuracy: 0.5508\n",
            "Epoch 23/100\n",
            "8/8 [==============================] - 18s 2s/step - loss: 0.4025 - accuracy: 0.7976 - val_loss: 1.3516 - val_accuracy: 0.6016\n",
            "Epoch 24/100\n",
            "8/8 [==============================] - 18s 2s/step - loss: 0.3278 - accuracy: 0.8443 - val_loss: 2.2307 - val_accuracy: 0.5195\n",
            "Epoch 25/100\n",
            "8/8 [==============================] - 18s 2s/step - loss: 0.3402 - accuracy: 0.8587 - val_loss: 1.4250 - val_accuracy: 0.5938\n",
            "Epoch 26/100\n",
            "8/8 [==============================] - 18s 2s/step - loss: 0.3836 - accuracy: 0.8053 - val_loss: 1.6655 - val_accuracy: 0.5586\n",
            "Epoch 27/100\n",
            "8/8 [==============================] - 18s 2s/step - loss: 0.2935 - accuracy: 0.8654 - val_loss: 1.4549 - val_accuracy: 0.6328\n",
            "Epoch 28/100\n",
            "8/8 [==============================] - 20s 3s/step - loss: 0.3175 - accuracy: 0.8516 - val_loss: 1.5629 - val_accuracy: 0.6016\n",
            "Epoch 29/100\n",
            "8/8 [==============================] - 21s 3s/step - loss: 0.3620 - accuracy: 0.8432 - val_loss: 1.1608 - val_accuracy: 0.6953\n",
            "Epoch 30/100\n",
            "8/8 [==============================] - 18s 2s/step - loss: 0.3149 - accuracy: 0.8409 - val_loss: 1.7678 - val_accuracy: 0.6016\n",
            "Epoch 31/100\n",
            "8/8 [==============================] - 18s 2s/step - loss: 0.3216 - accuracy: 0.8420 - val_loss: 1.5420 - val_accuracy: 0.6484\n",
            "Epoch 32/100\n",
            "8/8 [==============================] - 18s 2s/step - loss: 0.2720 - accuracy: 0.8732 - val_loss: 1.4913 - val_accuracy: 0.6602\n",
            "Epoch 33/100\n",
            "8/8 [==============================] - 18s 2s/step - loss: 0.3150 - accuracy: 0.8365 - val_loss: 1.8101 - val_accuracy: 0.5977\n",
            "Epoch 34/100\n",
            "8/8 [==============================] - 18s 2s/step - loss: 0.2597 - accuracy: 0.8810 - val_loss: 2.0684 - val_accuracy: 0.5781\n",
            "Epoch 35/100\n",
            "8/8 [==============================] - 18s 2s/step - loss: 0.4388 - accuracy: 0.8198 - val_loss: 3.0089 - val_accuracy: 0.5430\n",
            "Epoch 36/100\n",
            "8/8 [==============================] - 18s 2s/step - loss: 0.2487 - accuracy: 0.8888 - val_loss: 1.7582 - val_accuracy: 0.6797\n",
            "Epoch 37/100\n",
            "8/8 [==============================] - 20s 3s/step - loss: 0.2791 - accuracy: 0.8848 - val_loss: 2.2279 - val_accuracy: 0.6016\n",
            "Epoch 38/100\n",
            "8/8 [==============================] - 21s 3s/step - loss: 0.2551 - accuracy: 0.8754 - val_loss: 2.2885 - val_accuracy: 0.5703\n",
            "Epoch 39/100\n",
            "8/8 [==============================] - 18s 2s/step - loss: 0.3196 - accuracy: 0.8632 - val_loss: 2.1999 - val_accuracy: 0.6211\n",
            "Epoch 40/100\n",
            "8/8 [==============================] - 18s 2s/step - loss: 0.3079 - accuracy: 0.8587 - val_loss: 2.3543 - val_accuracy: 0.5703\n",
            "Epoch 41/100\n",
            "8/8 [==============================] - 18s 2s/step - loss: 0.2543 - accuracy: 0.8954 - val_loss: 2.3723 - val_accuracy: 0.5938\n",
            "Epoch 42/100\n",
            "8/8 [==============================] - 18s 2s/step - loss: 0.3102 - accuracy: 0.8554 - val_loss: 2.3537 - val_accuracy: 0.5859\n",
            "Epoch 43/100\n",
            "8/8 [==============================] - 18s 2s/step - loss: 0.3172 - accuracy: 0.8776 - val_loss: 2.5154 - val_accuracy: 0.5586\n",
            "Epoch 44/100\n",
            "8/8 [==============================] - 18s 2s/step - loss: 0.1895 - accuracy: 0.9188 - val_loss: 2.2296 - val_accuracy: 0.6211\n",
            "Epoch 45/100\n",
            "8/8 [==============================] - 18s 2s/step - loss: 0.1851 - accuracy: 0.9199 - val_loss: 2.3089 - val_accuracy: 0.6250\n",
            "Epoch 46/100\n",
            "8/8 [==============================] - 20s 3s/step - loss: 0.2505 - accuracy: 0.8906 - val_loss: 1.7285 - val_accuracy: 0.6523\n",
            "Epoch 47/100\n",
            "8/8 [==============================] - 21s 3s/step - loss: 0.3164 - accuracy: 0.8943 - val_loss: 3.1061 - val_accuracy: 0.5156\n",
            "Epoch 48/100\n",
            "8/8 [==============================] - 18s 2s/step - loss: 0.2982 - accuracy: 0.8999 - val_loss: 2.1983 - val_accuracy: 0.6289\n",
            "Epoch 49/100\n",
            "8/8 [==============================] - 18s 2s/step - loss: 0.2095 - accuracy: 0.8999 - val_loss: 2.7429 - val_accuracy: 0.5664\n",
            "Epoch 50/100\n",
            "8/8 [==============================] - 18s 2s/step - loss: 0.3814 - accuracy: 0.8621 - val_loss: 2.6313 - val_accuracy: 0.6094\n",
            "Epoch 51/100\n",
            "8/8 [==============================] - 18s 2s/step - loss: 0.2116 - accuracy: 0.9166 - val_loss: 2.5459 - val_accuracy: 0.6328\n",
            "Epoch 52/100\n",
            "8/8 [==============================] - 18s 2s/step - loss: 0.2540 - accuracy: 0.9121 - val_loss: 3.0575 - val_accuracy: 0.5938\n",
            "Epoch 53/100\n",
            "8/8 [==============================] - 18s 2s/step - loss: 0.1878 - accuracy: 0.9077 - val_loss: 3.1590 - val_accuracy: 0.5664\n",
            "Epoch 54/100\n",
            "8/8 [==============================] - 18s 2s/step - loss: 0.1638 - accuracy: 0.9266 - val_loss: 2.6011 - val_accuracy: 0.6289\n",
            "Epoch 55/100\n",
            "8/8 [==============================] - 20s 3s/step - loss: 0.2204 - accuracy: 0.9053 - val_loss: 2.6690 - val_accuracy: 0.6289\n",
            "Epoch 56/100\n",
            "8/8 [==============================] - 21s 3s/step - loss: 0.2564 - accuracy: 0.8865 - val_loss: 3.2144 - val_accuracy: 0.5703\n",
            "Epoch 57/100\n",
            "8/8 [==============================] - 18s 2s/step - loss: 0.2993 - accuracy: 0.9010 - val_loss: 3.0334 - val_accuracy: 0.6016\n",
            "Epoch 58/100\n",
            "8/8 [==============================] - 18s 2s/step - loss: 0.1775 - accuracy: 0.9221 - val_loss: 2.4694 - val_accuracy: 0.6445\n",
            "Epoch 59/100\n",
            "8/8 [==============================] - 18s 2s/step - loss: 0.2047 - accuracy: 0.9110 - val_loss: 2.9572 - val_accuracy: 0.5859\n",
            "Epoch 60/100\n",
            "8/8 [==============================] - 18s 2s/step - loss: 0.1819 - accuracy: 0.9288 - val_loss: 1.9203 - val_accuracy: 0.6719\n",
            "Epoch 61/100\n",
            "8/8 [==============================] - 18s 2s/step - loss: 0.3538 - accuracy: 0.8665 - val_loss: 2.1403 - val_accuracy: 0.6523\n",
            "Epoch 62/100\n",
            "8/8 [==============================] - 18s 2s/step - loss: 0.2984 - accuracy: 0.8954 - val_loss: 2.4839 - val_accuracy: 0.6172\n",
            "Epoch 63/100\n",
            "8/8 [==============================] - 18s 2s/step - loss: 0.1367 - accuracy: 0.9444 - val_loss: 2.9608 - val_accuracy: 0.6211\n",
            "Epoch 64/100\n",
            "8/8 [==============================] - 20s 3s/step - loss: 0.1626 - accuracy: 0.9375 - val_loss: 2.3905 - val_accuracy: 0.6602\n",
            "Epoch 65/100\n",
            "8/8 [==============================] - 21s 3s/step - loss: 0.1758 - accuracy: 0.9177 - val_loss: 2.7807 - val_accuracy: 0.6094\n",
            "Epoch 66/100\n",
            "8/8 [==============================] - 18s 2s/step - loss: 0.1633 - accuracy: 0.9388 - val_loss: 2.6792 - val_accuracy: 0.6367\n",
            "Epoch 67/100\n",
            "8/8 [==============================] - 18s 2s/step - loss: 0.1728 - accuracy: 0.9188 - val_loss: 2.7938 - val_accuracy: 0.6016\n",
            "Epoch 68/100\n",
            "8/8 [==============================] - 18s 2s/step - loss: 0.2626 - accuracy: 0.9043 - val_loss: 2.6250 - val_accuracy: 0.6094\n",
            "Epoch 69/100\n",
            "8/8 [==============================] - 18s 2s/step - loss: 0.2023 - accuracy: 0.9143 - val_loss: 3.0203 - val_accuracy: 0.6289\n",
            "Epoch 70/100\n",
            "8/8 [==============================] - 18s 2s/step - loss: 0.2137 - accuracy: 0.9055 - val_loss: 2.8817 - val_accuracy: 0.6250\n",
            "Epoch 71/100\n",
            "8/8 [==============================] - 18s 2s/step - loss: 0.2137 - accuracy: 0.9177 - val_loss: 2.5837 - val_accuracy: 0.6133\n",
            "Epoch 72/100\n",
            "8/8 [==============================] - 18s 2s/step - loss: 0.1374 - accuracy: 0.9410 - val_loss: 3.0978 - val_accuracy: 0.6094\n",
            "Epoch 73/100\n",
            "8/8 [==============================] - 20s 3s/step - loss: 0.1444 - accuracy: 0.9492 - val_loss: 2.0164 - val_accuracy: 0.6836\n",
            "Epoch 74/100\n",
            "8/8 [==============================] - 21s 3s/step - loss: 0.1788 - accuracy: 0.9099 - val_loss: 2.3692 - val_accuracy: 0.6484\n",
            "Epoch 75/100\n",
            "8/8 [==============================] - 18s 2s/step - loss: 0.1087 - accuracy: 0.9522 - val_loss: 2.6401 - val_accuracy: 0.6602\n",
            "Epoch 76/100\n",
            "8/8 [==============================] - 18s 2s/step - loss: 0.2338 - accuracy: 0.9255 - val_loss: 2.5832 - val_accuracy: 0.6211\n",
            "Epoch 77/100\n",
            "8/8 [==============================] - 18s 2s/step - loss: 0.1925 - accuracy: 0.9210 - val_loss: 2.7843 - val_accuracy: 0.6602\n",
            "Epoch 78/100\n",
            "8/8 [==============================] - 18s 2s/step - loss: 0.1486 - accuracy: 0.9455 - val_loss: 3.2337 - val_accuracy: 0.6133\n",
            "Epoch 79/100\n",
            "8/8 [==============================] - 18s 2s/step - loss: 0.1229 - accuracy: 0.9511 - val_loss: 1.7358 - val_accuracy: 0.7383\n",
            "Epoch 80/100\n",
            "8/8 [==============================] - 18s 2s/step - loss: 0.1551 - accuracy: 0.9344 - val_loss: 2.4015 - val_accuracy: 0.6562\n",
            "Epoch 81/100\n",
            "8/8 [==============================] - 18s 2s/step - loss: 0.1307 - accuracy: 0.9499 - val_loss: 3.1095 - val_accuracy: 0.6484\n",
            "Epoch 82/100\n",
            "8/8 [==============================] - 20s 3s/step - loss: 0.1863 - accuracy: 0.9238 - val_loss: 2.9450 - val_accuracy: 0.6367\n",
            "Epoch 83/100\n",
            "8/8 [==============================] - 21s 3s/step - loss: 0.1410 - accuracy: 0.9499 - val_loss: 2.8378 - val_accuracy: 0.6445\n",
            "Epoch 84/100\n",
            "8/8 [==============================] - 18s 2s/step - loss: 0.2095 - accuracy: 0.9110 - val_loss: 2.6394 - val_accuracy: 0.6602\n",
            "Epoch 85/100\n",
            "8/8 [==============================] - 18s 2s/step - loss: 0.0960 - accuracy: 0.9689 - val_loss: 2.7009 - val_accuracy: 0.6914\n",
            "Epoch 86/100\n",
            "8/8 [==============================] - 18s 2s/step - loss: 0.1175 - accuracy: 0.9444 - val_loss: 2.0730 - val_accuracy: 0.6914\n",
            "Epoch 87/100\n",
            "8/8 [==============================] - 18s 2s/step - loss: 0.1444 - accuracy: 0.9333 - val_loss: 2.6352 - val_accuracy: 0.6562\n",
            "Epoch 88/100\n",
            "8/8 [==============================] - 18s 2s/step - loss: 0.1258 - accuracy: 0.9433 - val_loss: 4.6769 - val_accuracy: 0.5625\n",
            "Epoch 89/100\n",
            "8/8 [==============================] - 18s 2s/step - loss: 0.0967 - accuracy: 0.9644 - val_loss: 3.0432 - val_accuracy: 0.6602\n",
            "Epoch 90/100\n",
            "8/8 [==============================] - 18s 2s/step - loss: 0.1439 - accuracy: 0.9366 - val_loss: 3.0575 - val_accuracy: 0.6445\n",
            "Epoch 91/100\n",
            "8/8 [==============================] - 21s 3s/step - loss: 0.1395 - accuracy: 0.9336 - val_loss: 3.4385 - val_accuracy: 0.6094\n",
            "Epoch 92/100\n",
            "8/8 [==============================] - 21s 3s/step - loss: 0.1445 - accuracy: 0.9266 - val_loss: 2.8220 - val_accuracy: 0.6680\n",
            "Epoch 93/100\n",
            "8/8 [==============================] - 18s 2s/step - loss: 0.0974 - accuracy: 0.9622 - val_loss: 3.9600 - val_accuracy: 0.6094\n",
            "Epoch 94/100\n",
            "8/8 [==============================] - 18s 2s/step - loss: 0.2142 - accuracy: 0.9310 - val_loss: 3.0785 - val_accuracy: 0.6484\n",
            "Epoch 95/100\n",
            "8/8 [==============================] - 18s 2s/step - loss: 0.1214 - accuracy: 0.9410 - val_loss: 3.4223 - val_accuracy: 0.6172\n",
            "Epoch 96/100\n",
            "8/8 [==============================] - 19s 2s/step - loss: 0.1709 - accuracy: 0.9410 - val_loss: 3.0448 - val_accuracy: 0.6445\n",
            "Epoch 97/100\n",
            "8/8 [==============================] - 18s 2s/step - loss: 0.0941 - accuracy: 0.9577 - val_loss: 2.5058 - val_accuracy: 0.6680\n",
            "Epoch 98/100\n",
            "8/8 [==============================] - 18s 2s/step - loss: 0.1460 - accuracy: 0.9333 - val_loss: 3.6550 - val_accuracy: 0.6133\n",
            "Epoch 99/100\n",
            "8/8 [==============================] - 18s 2s/step - loss: 0.1581 - accuracy: 0.9433 - val_loss: 4.8819 - val_accuracy: 0.5391\n",
            "Epoch 100/100\n",
            "8/8 [==============================] - 20s 3s/step - loss: 0.1129 - accuracy: 0.9561 - val_loss: 2.7454 - val_accuracy: 0.6602\n"
          ],
          "name": "stdout"
        }
      ]
    },
    {
      "cell_type": "code",
      "metadata": {
        "colab_type": "code",
        "id": "7zNPRWOVJdOH",
        "colab": {
          "base_uri": "https://localhost:8080/",
          "height": 545
        },
        "outputId": "62d1f631-98ab-4bc5-e64d-bfc14f7ca4a5"
      },
      "source": [
        "import matplotlib.pyplot as plt\n",
        "acc = history.history['accuracy']\n",
        "val_acc = history.history['val_accuracy']\n",
        "loss = history.history['loss']\n",
        "val_loss = history.history['val_loss']\n",
        "\n",
        "epochs = range(len(acc))\n",
        "\n",
        "plt.plot(epochs, acc, 'r', label='Training accuracy')\n",
        "plt.plot(epochs, val_acc, 'b', label='Validation accuracy')\n",
        "plt.title('Training and validation accuracy')\n",
        "\n",
        "plt.figure()\n",
        "\n",
        "plt.plot(epochs, loss, 'r', label='Training Loss')\n",
        "plt.plot(epochs, val_loss, 'b', label='Validation Loss')\n",
        "plt.title('Training and validation loss')\n",
        "plt.legend()\n",
        "\n",
        "plt.show()"
      ],
      "execution_count": 9,
      "outputs": [
        {
          "output_type": "display_data",
          "data": {
            "image/png": "[encoded data removed]",
            "text/plain": [
              "<Figure size 432x288 with 1 Axes>"
            ]
          },
          "metadata": {
            "tags": [],
            "needs_background": "light"
          }
        },
        {
          "output_type": "display_data",
          "data": {
            "image/png": "[encoded data removed]",
            "text/plain": [
              "<Figure size 432x288 with 1 Axes>"
            ]
          },
          "metadata": {
            "tags": [],
            "needs_background": "light"
          }
        }
      ]
    },
    {
      "cell_type": "code",
      "metadata": {
        "id": "su4tprEapYW5",
        "colab_type": "code",
        "colab": {}
      },
      "source": [
        ""
      ],
      "execution_count": 0,
      "outputs": []
    }
  ]
}